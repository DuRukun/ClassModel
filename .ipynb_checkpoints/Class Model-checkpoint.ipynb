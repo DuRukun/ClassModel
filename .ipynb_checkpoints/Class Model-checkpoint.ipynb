{
 "cells": [
  {
   "cell_type": "code",
   "execution_count": null,
   "metadata": {
    "collapsed": true
   },
   "outputs": [],
   "source": [
    "import numpy as np\n",
    "import math\n",
    "import pandas as pd\n",
    "import seaborn as sns\n",
    "import matplotlib.pyplot as plt\n",
    "\n",
    "sns.set(style=\"white\")\n"
   ]
  },
  {
   "cell_type": "code",
   "execution_count": null,
   "metadata": {
    "collapsed": true
   },
   "outputs": [],
   "source": [
    "dis_threshold = 10\n",
    "trans_possibility = 0.5\n",
    "Total_time = 1 * 60 * 1000\n",
    "Trans_time = 5 * 1000\n",
    "Rest_time = 5 * 1000"
   ]
  },
  {
   "cell_type": "code",
   "execution_count": null,
   "metadata": {
    "collapsed": true
   },
   "outputs": [],
   "source": [
    "class Seat:\n",
    "    def __init__(self, x = None, y = None, proba = 0, anc = [], ident = 'Empty', l = None):\n",
    "        self.x = x\n",
    "        self.y = y\n",
    "        self.probability = proba\n",
    "        self.ancestor = anc\n",
    "        self.identity = ident\n",
    "        self.label = l\n",
    "        \n",
    "    def set_x(self, x):\n",
    "        self.x = x\n",
    "\n",
    "    def set_y(self, y):\n",
    "        self.y = y\n",
    "    \n",
    "    def set_pros(self, p):\n",
    "        self.probability = p\n",
    "\n",
    "    def set_ancestor(self, anc):\n",
    "        if type(anc) is not list:\n",
    "            self.ancestor = [anc]\n",
    "        else:\n",
    "            self.ancestor = anc\n",
    "    \n",
    "    def add_ancestor(self, anc):\n",
    "        self.ancestor.append(anc)\n",
    "    \n",
    "    def set_identity(self, ident):\n",
    "        self.identity = ident\n",
    "        \n",
    "    def set_label(self, l):\n",
    "        self.label = l\n",
    "        self.set_pros(1 - math.pow((1 - math.pow(trans_possibility, l)), (Total_time / (Trans_time + Rest_time))))\n",
    "        \n",
    "    def to_string(self):\n",
    "        print(\"Seat x:\" + str(self.x) + \" y:\" + str(self.y) + \" has ancestor \" + str(self.ancestor) + \" and label \" + str(self.label) + \" which is occupied by \" + str(self.identity))"
   ]
  },
  {
   "cell_type": "code",
   "execution_count": null,
   "metadata": {
    "collapsed": true
   },
   "outputs": [],
   "source": [
    "# identity: Empty, Teacher, Student"
   ]
  },
  {
   "cell_type": "code",
   "execution_count": null,
   "metadata": {
    "collapsed": true
   },
   "outputs": [],
   "source": [
    "def cal_dis(x1,y1,x2,y2):\n",
    "    return math.sqrt((x1-x2)*(x1-x2) + (y1-y2)*(y1-y2))"
   ]
  },
  {
   "cell_type": "code",
   "execution_count": null,
   "metadata": {
    "collapsed": true
   },
   "outputs": [],
   "source": [
    "class Class:\n",
    "\n",
    "    def __init__(self, length = -1, width= -1):\n",
    "        self.seat_length = length\n",
    "        self.seat_width = width\n",
    "        \n",
    "        seat_list = []\n",
    "        for l in range(length):\n",
    "            for w in range(width):\n",
    "                seat_list.append(Seat(w,l, ident=\"Empty\"))\n",
    "        self.class_seats = seat_list\n",
    "        self.teacher_x = self.seat_width / 2\n",
    "        self.teacher_y = -1\n",
    "#         self.class_seats.append(Seat(self.teacher_x, self.teacher_y, ident=\"Teacher\"))\n",
    "        self.max_label = math.ceil(math.sqrt(self.seat_length*self.seat_length + self.seat_width*self.seat_width)/dis_threshold) + 1\n",
    "        # max_label means the maximum number of label which this class can have\n",
    "        \n",
    "    def get_seat(self, x, y):\n",
    "        return self.class_seats[x + (y * self.seat_width)] # return the Seat OBJECT\n",
    "    \n",
    "    def convert_index_to_xy(self,index):\n",
    "        x = index % self.seat_width\n",
    "        y = math.floor(index / self.seat_width)\n",
    "        return x, y\n",
    "    \n",
    "    def convert_xy_to_index(self, x, y):\n",
    "        return x + (y * self.seat_width)\n",
    "    \n",
    "    def random_arrange_student(self, student_num):\n",
    "        \"\"\"\n",
    "        Randomly arrange students for this class\n",
    "        student_number: Number of students in this class\n",
    "        \"\"\"\n",
    "        if len([self.return_all_student_seat()]) > 0:\n",
    "            # If there are already students in this class\n",
    "            # Reset all the seats in this class\n",
    "            self.class_seats = []\n",
    "            for l in range(self.seat_length):\n",
    "                for w in range(self.seat_width):\n",
    "                    self.class_seats.append(Seat(w,l, ident=\"Empty\"))\n",
    "        arr = np.arange(self.seat_length * self.seat_width)\n",
    "        np.random.shuffle(arr)\n",
    "        \n",
    "        for index in arr[:student_num]:\n",
    "            self.class_seats[index].set_identity(\"Student\")\n",
    "\n",
    "    def return_all_student_seat(self):\n",
    "        res = [] \n",
    "        for i in self.class_seats:\n",
    "            if (i.identity == \"Student\"):\n",
    "                res.append(i)\n",
    "        # res = [Seat1_object, Seat2_object, Seat3_object,....]\n",
    "        return res\n",
    "    \n",
    "    def visualize_students(self):\n",
    "        \"\"\"\n",
    "        Visualize all the student seats in this class\n",
    "        \"\"\"\n",
    "        students = self.return_all_student_seat()\n",
    "        arr = np.array([[0] * self.seat_width] * self.seat_length) # Initializa a 2d-array with class_width * class_length, initial value is 0\n",
    "        for s in students:\n",
    "            arr[s.y][s.x] = 1\n",
    "            \n",
    "        # Draw the heatmap\n",
    "        plt.figure(figsize=(self.seat_length/2, self.seat_width/2))\n",
    "        sns.heatmap(pd.DataFrame(arr).sort_index(ascending=False), square=True, linewidths=0.5, cmap=\"YlGnBu\")\n",
    "        plt.show()\n",
    "        return arr\n",
    "    \n",
    "    def visualize_selected_seats(self, seats_list):\n",
    "        arr = np.array([[0] * self.seat_width] * self.seat_length)\n",
    "        for s in seats_list:\n",
    "            arr[s.y][s.x] = 1\n",
    "        \n",
    "        plt.figure(figsize=(self.seat_length/2, self.seat_width/2))\n",
    "        sns.heatmap(pd.DataFrame(arr).sort_index(ascending=False), square=True, linewidths=0.5, cmap=\"YlGnBu\")\n",
    "        plt.show()\n",
    "        return arr\n",
    "    \n",
    "    def set_ancestor(self):\n",
    "        \"\"\"\n",
    "        Set ancestor for all the student seats in this class\n",
    "        \"\"\"\n",
    "        students = self.return_all_student_seat()\n",
    "        students_label = np.array([i.label for i in students])\n",
    "        if (all(x == None for x in students_label)): # if the student labels are all None\n",
    "            print(\"Set label 1 and ancestor to teacher for students who is near to teacher\")\n",
    "            for i in students:\n",
    "                if cal_dis(i.x,i.y,self.teacher_x,self.teacher_y) < dis_threshold:\n",
    "                    i.add_ancestor(\"Teacher\")\n",
    "                    i.set_label(1)\n",
    "\n",
    "        count = 0\n",
    "        while (True):\n",
    "            students_without_ancestor = [i for i in students if len(i.ancestor) == 0]\n",
    "            students_with_ancestor = [i for i in students if len(i.ancestor) != 0]\n",
    "            if len(students_without_ancestor) == 0:\n",
    "                print(\"All the students have ancestors now\")\n",
    "                break\n",
    "            if count > self.max_label:\n",
    "                print(students_without_ancestor)\n",
    "                print(\"There are students cannot be reached by anyone!!!!!\")\n",
    "                break\n",
    "\n",
    "            for a in students_without_ancestor:\n",
    "                nearby = []\n",
    "                for b in students_with_ancestor:\n",
    "                    if cal_dis(a.x,a.y,b.x,b.y) < dis_threshold:\n",
    "                        nearby.append(b)\n",
    "                if len(nearby) > 0:\n",
    "                    ancestor_label = min([j.label for j in nearby])\n",
    "                    print(\"Set label for strudent\" + str([a.x, a.y]))\n",
    "                    a.set_label(ancestor_label + 1)\n",
    "                    for i in nearby:\n",
    "                        if (i.label == ancestor_label):\n",
    "                            a.add_ancestor('Stu' + str([i.x, i.y]))\n",
    "\n",
    "            count += 1\n",
    "            \n",
    "    def visualize_seats_label(self):\n",
    "        students = self.return_all_student_seat()\n",
    "        arr = np.array([[0] * self.seat_width] * self.seat_length)\n",
    "        for s in students:\n",
    "            if s.label is None:\n",
    "                print(\"Student \" + str(s.x) + \", \" + str(s.y) + \" cannot be reached by Teacher\")\n",
    "                arr[s.y][s.x] = self.max_label + 1\n",
    "            else:\n",
    "                arr[s.y][s.x] = s.label\n",
    "\n",
    "        plt.figure(figsize=(self.seat_length/2, self.seat_width/2))\n",
    "        sns.heatmap(pd.DataFrame(arr).sort_index(ascending=False), \n",
    "                    square=True, \n",
    "                    linewidths=0.5, \n",
    "                    cmap=sns.cubehelix_palette(self.max_label+1, start=2, rot=1, dark=0, light=.95))\n",
    "        plt.show()\n",
    "        \n",
    "        return arr"
   ]
  },
  {
   "cell_type": "code",
   "execution_count": null,
   "metadata": {},
   "outputs": [],
   "source": [
    "A = Class(20, 20)\n",
    "A.random_arrange_student(10)\n",
    "A.visualize_students()"
   ]
  },
  {
   "cell_type": "code",
   "execution_count": null,
   "metadata": {},
   "outputs": [],
   "source": [
    "A.set_ancestor()\n",
    "A.visualize_seats_label()"
   ]
  },
  {
   "cell_type": "code",
   "execution_count": null,
   "metadata": {},
   "outputs": [],
   "source": [
    "A_students = A.return_all_student_seat()\n",
    "for i in A_students:\n",
    "    i.to_string()"
   ]
  },
  {
   "cell_type": "code",
   "execution_count": null,
   "metadata": {
    "collapsed": true
   },
   "outputs": [],
   "source": []
  },
  {
   "cell_type": "code",
   "execution_count": null,
   "metadata": {
    "collapsed": true
   },
   "outputs": [],
   "source": []
  }
 ],
 "metadata": {
  "kernelspec": {
   "display_name": "Python 3",
   "language": "python",
   "name": "python3"
  },
  "language_info": {
   "codemirror_mode": {
    "name": "ipython",
    "version": 3
   },
   "file_extension": ".py",
   "mimetype": "text/x-python",
   "name": "python",
   "nbconvert_exporter": "python",
   "pygments_lexer": "ipython3",
   "version": "3.6.1"
  }
 },
 "nbformat": 4,
 "nbformat_minor": 2
}
